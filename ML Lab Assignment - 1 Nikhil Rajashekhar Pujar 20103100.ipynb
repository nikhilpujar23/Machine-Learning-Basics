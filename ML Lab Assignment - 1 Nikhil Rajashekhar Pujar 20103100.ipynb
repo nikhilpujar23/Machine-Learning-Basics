{
 "cells": [
  {
   "cell_type": "markdown",
   "id": "45b6a4fb",
   "metadata": {},
   "source": [
    "# <center>ML Lab Assignment - 1 <center>  \n",
    "    \n",
    "### <center>Nikhil Rajashekhar Pujar<center>\n",
    "### <center>Roll No. - 20103100 <center>\n",
    "### <center>Section - B<center>\n",
    "### <center>Group - G1<center>\n",
    "    \n",
    "    \n",
    "***\n",
    "***"
   ]
  },
  {
   "cell_type": "markdown",
   "id": "ce57fe82",
   "metadata": {},
   "source": [
    "# <center>Control Flow Statements<center>   "
   ]
  },
  {
   "cell_type": "markdown",
   "id": "fa142040",
   "metadata": {},
   "source": [
    "### 1. A store is having a sale. It’s giving 10% off purchases of  10 dollars or lower, and 20% off purchases of greater than 10 dollars . Write a program that asks the purchase price and displays the discount (10% or 20%) and the final price."
   ]
  },
  {
   "cell_type": "code",
   "execution_count": 7,
   "id": "95b1f1ae",
   "metadata": {},
   "outputs": [
    {
     "name": "stdout",
     "output_type": "stream",
     "text": [
      "Enter Price\n",
      "40\n",
      "Dicount percentage =  20\n",
      "Final Price =  32.0 $\n"
     ]
    }
   ],
   "source": [
    "price=(int)(input(\"Enter Price\\n\"))\n",
    "discount=0\n",
    "if(price>10): \n",
    "    discount=20 \n",
    "else: \n",
    "    discount=10\n",
    "print('Dicount percentage = ',discount)\n",
    "print('Final Price = ',price - (discount/100*price), '$')"
   ]
  },
  {
   "cell_type": "markdown",
   "id": "06eb9a8b",
   "metadata": {},
   "source": [
    "### 2. (a) Write a program to print a multiplication table (a times table). At the start, it should ask the user which table to print. "
   ]
  },
  {
   "cell_type": "code",
   "execution_count": 8,
   "id": "89286997",
   "metadata": {},
   "outputs": [
    {
     "name": "stdout",
     "output_type": "stream",
     "text": [
      "Which multiplication table would you like?\n",
      "9\n",
      "9  x  1  =  9\n",
      "9  x  2  =  18\n",
      "9  x  3  =  27\n",
      "9  x  4  =  36\n",
      "9  x  5  =  45\n",
      "9  x  6  =  54\n",
      "9  x  7  =  63\n",
      "9  x  8  =  72\n",
      "9  x  9  =  81\n",
      "9  x  10  =  90\n"
     ]
    }
   ],
   "source": [
    "a=(int)(input(\"Which multiplication table would you like?\\n\"))\n",
    "for i in range(1,11):\n",
    "    print(a,\" x \", i,\" = \",a*i)"
   ]
  },
  {
   "cell_type": "markdown",
   "id": "86387085",
   "metadata": {},
   "source": [
    "### 2 (b) You probably used a for loop in your program for question #1. That’s how most people would do it. But just for practice, try doing the same thing with a while loop."
   ]
  },
  {
   "cell_type": "code",
   "execution_count": 10,
   "id": "786e1f21",
   "metadata": {},
   "outputs": [
    {
     "name": "stdout",
     "output_type": "stream",
     "text": [
      "Which multiplication table would you like?\n",
      "4\n",
      "4  x  1  =  4\n",
      "4  x  2  =  8\n",
      "4  x  3  =  12\n",
      "4  x  4  =  16\n",
      "4  x  5  =  20\n",
      "4  x  6  =  24\n",
      "4  x  7  =  28\n",
      "4  x  8  =  32\n",
      "4  x  9  =  36\n",
      "4  x  10  =  40\n"
     ]
    }
   ],
   "source": [
    "a=(int)(input(\"Which multiplication table would you like?\\n\"))\n",
    "i=1\n",
    "while(i!=11):\n",
    "    print(a,\" x \", i,\" = \",a*i)\n",
    "    i=i+1"
   ]
  },
  {
   "cell_type": "markdown",
   "id": "0da9b8f1",
   "metadata": {},
   "source": [
    "### 2(c ) Add something else to the multiplication table program. After asking which table the user wants, ask her how high the table should go."
   ]
  },
  {
   "cell_type": "code",
   "execution_count": 12,
   "id": "a3bf0922",
   "metadata": {},
   "outputs": [
    {
     "name": "stdout",
     "output_type": "stream",
     "text": [
      "Which multiplication table would you like?\n",
      "6\n",
      "How high do you want to go?\n",
      "12\n",
      "For loop version:\n",
      "6  x  1  =  6\n",
      "6  x  2  =  12\n",
      "6  x  3  =  18\n",
      "6  x  4  =  24\n",
      "6  x  5  =  30\n",
      "6  x  6  =  36\n",
      "6  x  7  =  42\n",
      "6  x  8  =  48\n",
      "6  x  9  =  54\n",
      "6  x  10  =  60\n",
      "6  x  11  =  66\n",
      "6  x  12  =  72\n",
      "While loop version:\n",
      "6  x  1  =  6\n",
      "6  x  2  =  12\n",
      "6  x  3  =  18\n",
      "6  x  4  =  24\n",
      "6  x  5  =  30\n",
      "6  x  6  =  36\n",
      "6  x  7  =  42\n",
      "6  x  8  =  48\n",
      "6  x  9  =  54\n",
      "6  x  10  =  60\n",
      "6  x  11  =  66\n",
      "6  x  12  =  72\n"
     ]
    }
   ],
   "source": [
    "a=(int)(input(\"Which multiplication table would you like?\\n\"))\n",
    "b=(int)(input(\"How high do you want to go?\\n\"))\n",
    "print('For loop version:')\n",
    "for i in range(1,b+1):\n",
    "    print(a,\" x \", i,\" = \",a*i)\n",
    "print('While loop version:')\n",
    "i=1\n",
    "while(i<=b):\n",
    "    print(a,\" x \", i,\" = \",a*i)\n",
    "    i=i+1"
   ]
  },
  {
   "cell_type": "markdown",
   "id": "2f594912",
   "metadata": {},
   "source": [
    "### 3. Make a function that will allow you to print any name, address, street, city, state or province, zip or postal code, and country in the world. (Hint: It needs seven arguments. You can pass them as individual arguments or as a list.)"
   ]
  },
  {
   "cell_type": "code",
   "execution_count": 21,
   "id": "a772e5db",
   "metadata": {},
   "outputs": [
    {
     "name": "stdout",
     "output_type": "stream",
     "text": [
      "Enter name, address, street, city, state or province, zip or postal code, and country separated by commas : \n",
      "Nikhil Pujar, E wing, Main road, Pune, Maharashtra, 411060,India\n",
      "name  :  Nikhil Pujar\n",
      "address  :   E wing\n",
      "street  :   Main road\n",
      "city  :   Pune\n",
      "state or province  :   Maharashtra\n",
      "zip /postal code  :   411060\n",
      "country  :  India\n"
     ]
    }
   ],
   "source": [
    "def printfunction(l2):\n",
    "    l1=['name','address', 'street', 'city', 'state or province', 'zip /postal code', 'country']\n",
    "    for i in range(len(l1)):\n",
    "        print(l1[i],\" : \",l2[i])\n",
    "\n",
    "a = list(map(str,input(\"Enter name, address, street, city, state or province, zip or postal code, and country separated by commas : \\n\").split(',')))\n",
    "printfunction(a)"
   ]
  },
  {
   "cell_type": "markdown",
   "id": "b23bf486",
   "metadata": {},
   "source": [
    "### 4.Write a function to calculate the total value of some change—quarters, dimes, nickels, and pennies. The function should return the total value of the coins. Then write a program that calls the function.\n",
    "\n",
    "A penny is worth 1 cent.\n",
    "\n",
    "A nickel is worth 5 cents.\n",
    "\n",
    "A dime is worth 10 cents.\n",
    "\n",
    "A quarter is worth 25 cents."
   ]
  },
  {
   "cell_type": "code",
   "execution_count": 23,
   "id": "a025d13c",
   "metadata": {},
   "outputs": [
    {
     "name": "stdout",
     "output_type": "stream",
     "text": [
      "Enter no. of pennies,nickels, dimes and quaters sparated by a comma \n",
      "3,5,6,1\n",
      "pennies  :  3\n",
      "nickels  :  5\n",
      "dimes  :  6\n",
      "quaters  :  1\n",
      "Amount in dollars =  1.13\n"
     ]
    }
   ],
   "source": [
    "def cal(l):\n",
    "    tot=0\n",
    "    tot=l[0]+l[1]*5+l[2]*10+l[3]*25\n",
    "    return tot/100\n",
    "a=list(map(int,input(\"Enter no. of pennies,nickels, dimes and quaters sparated by a comma \\n\").split(',')))\n",
    "l=['pennies','nickels', 'dimes', 'quaters']\n",
    "for i in range(len(l)):\n",
    "    print(l[i],' : ',a[i])\n",
    "print(\"Amount in dollars = \" ,cal(a))"
   ]
  },
  {
   "cell_type": "markdown",
   "id": "dd41a944",
   "metadata": {},
   "source": [
    "###  5 a) Three people ate dinner at a restaurant and want to split the bill. The total is 35.27 dollars, and they want to leave a 15% tip. How much should each person pay?"
   ]
  },
  {
   "cell_type": "code",
   "execution_count": 41,
   "id": "60f4272e",
   "metadata": {},
   "outputs": [
    {
     "name": "stdout",
     "output_type": "stream",
     "text": [
      "Enter the bill\n",
      "50\n",
      "After adding the tip and splitting the bill three ways, each person should pay :    19.17 $\n"
     ]
    }
   ],
   "source": [
    "a=(float)(input('Enter the bill\\n'));\n",
    "s=(a+0.15*a)/3\n",
    "print('After adding the tip and splitting the bill three ways, each person should pay : {0:8.2f} $'.format(s))"
   ]
  },
  {
   "cell_type": "markdown",
   "id": "76399f8a",
   "metadata": {},
   "source": [
    "### 5 b) Calculate the area and perimeter of a rectangular room"
   ]
  },
  {
   "cell_type": "code",
   "execution_count": 49,
   "id": "b83c8a5a",
   "metadata": {},
   "outputs": [
    {
     "name": "stdout",
     "output_type": "stream",
     "text": [
      "Enter length\n",
      "3.4\n",
      "Enter breadth\n",
      "6.7\n",
      "Area =  22.78\n",
      "Perimeter =  20.2\n"
     ]
    }
   ],
   "source": [
    "a=(float)(input(\"Enter length\\n\"))\n",
    "b=(float)(input(\"Enter breadth\\n\"))\n",
    "print('Area = ', a*b);\n",
    "print('Perimeter = ',2*(a+b))"
   ]
  },
  {
   "cell_type": "markdown",
   "id": "6a087bc3",
   "metadata": {},
   "source": [
    "### 6.Write a program to convert temperatures from Fahrenheit to Celsius."
   ]
  },
  {
   "cell_type": "code",
   "execution_count": 48,
   "id": "be38b8d4",
   "metadata": {},
   "outputs": [
    {
     "name": "stdout",
     "output_type": "stream",
     "text": [
      "Enter temperature in Farhenheit\n",
      "70.3\n",
      "Temperature in Celcius =   21.278\n"
     ]
    }
   ],
   "source": [
    "f=(float)(input(\"Enter temperature in Farhenheit\\n\"))\n",
    "c = (5 / 9) * (f - 32)\n",
    "print('Temperature in Celcius = {0:8.3f} '.format(c))\n"
   ]
  }
 ],
 "metadata": {
  "kernelspec": {
   "display_name": "Python 3",
   "language": "python",
   "name": "python3"
  },
  "language_info": {
   "codemirror_mode": {
    "name": "ipython",
    "version": 3
   },
   "file_extension": ".py",
   "mimetype": "text/x-python",
   "name": "python",
   "nbconvert_exporter": "python",
   "pygments_lexer": "ipython3",
   "version": "3.8.8"
  }
 },
 "nbformat": 4,
 "nbformat_minor": 5
}

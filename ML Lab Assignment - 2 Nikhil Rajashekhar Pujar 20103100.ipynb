{
 "cells": [
  {
   "cell_type": "markdown",
   "id": "45b6a4fb",
   "metadata": {},
   "source": [
    "# <center>ML Lab Assignment - 2 <center>  \n",
    "    \n",
    "### <center>Nikhil Rajashekhar Pujar<center>\n",
    "### <center>Roll No. - 20103100 <center>\n",
    "### <center>Section - B<center>\n",
    "### <center>Group - G1<center>\n",
    "    \n",
    "    \n",
    "***\n",
    "***"
   ]
  },
  {
   "cell_type": "markdown",
   "id": "ce57fe82",
   "metadata": {},
   "source": [
    "# <center>Collections<center>   "
   ]
  },
  {
   "cell_type": "markdown",
   "id": "fa142040",
   "metadata": {},
   "source": [
    "### 1 - Write a program to ask the user for five names. The program should store the names in a list and print them all out at the end. It should look something like this:\n",
    "\n",
    "Enter 5 names:\n",
    "\n",
    "Tony\n",
    "\n",
    "Paul\n",
    "\n",
    "Nick\n",
    "\n",
    "Michel\n",
    "\n",
    "Kevin\n",
    "\n",
    "The names are Tony Paul Nick Michel Kevin"
   ]
  },
  {
   "cell_type": "code",
   "execution_count": 8,
   "id": "95b1f1ae",
   "metadata": {},
   "outputs": [
    {
     "name": "stdout",
     "output_type": "stream",
     "text": [
      "Enter 5 names\n",
      "tony\n",
      "abc\n",
      "def\n",
      "steve\n",
      "watson\n",
      "Names entered are :  tony abc def steve watson "
     ]
    }
   ],
   "source": [
    "\n",
    "print('Enter 5 names')\n",
    "a=input()\n",
    "b=input()\n",
    "c=input()\n",
    "d=input()\n",
    "e=input()\n",
    "l=[a,b,c,d,e]\n",
    "print('Names entered are : ',end=' ')\n",
    "for i in l:\n",
    "    print(i,end=' ')"
   ]
  },
  {
   "cell_type": "markdown",
   "id": "06eb9a8b",
   "metadata": {},
   "source": [
    "### 2 - Modify the program from question #1 to print both the original list of names and sorted list."
   ]
  },
  {
   "cell_type": "code",
   "execution_count": 9,
   "id": "89286997",
   "metadata": {},
   "outputs": [
    {
     "name": "stdout",
     "output_type": "stream",
     "text": [
      "Orignal list :  ['tony', 'abc', 'def', 'steve', 'watson']\n",
      "Sorted list :  ['abc', 'def', 'steve', 'tony', 'watson']\n"
     ]
    }
   ],
   "source": [
    "sorted_l=sorted(l)\n",
    "print('Orignal list : ',l)\n",
    "print('Sorted list : ',sorted_l)"
   ]
  },
  {
   "cell_type": "markdown",
   "id": "86387085",
   "metadata": {},
   "source": [
    "### 3 - Modify the program from question #1 to display only the third name the user typed in, like this:\n",
    "\n",
    "The third name you entered is: Nick"
   ]
  },
  {
   "cell_type": "code",
   "execution_count": 11,
   "id": "786e1f21",
   "metadata": {},
   "outputs": [
    {
     "name": "stdout",
     "output_type": "stream",
     "text": [
      "The third name you entered is:  steve\n"
     ]
    }
   ],
   "source": [
    "print('The third name you entered is: ', l[3])"
   ]
  },
  {
   "cell_type": "markdown",
   "id": "0da9b8f1",
   "metadata": {},
   "source": [
    "### 4 - Modify the program from question #1 to let the user replace one of the names. She should be able to choose which name to replace and then type in the new name. Finally, display the new list like this:\n",
    "\n",
    "Enter 5 names:\n",
    "\n",
    "Tony\n",
    "\n",
    "Paul\n",
    "\n",
    "Nick\n",
    "\n",
    "Michel\n",
    "\n",
    "Kevin\n",
    "\n",
    "The names are Tony Paul Nick Michel Kevin\n",
    "\n",
    "Replace one name. Which one? (1-5): 4\n",
    "\n",
    "New name: Peter\n",
    "\n",
    "The names are Tony Paul Nick Peter Kevin"
   ]
  },
  {
   "cell_type": "code",
   "execution_count": 35,
   "id": "a3bf0922",
   "metadata": {},
   "outputs": [
    {
     "name": "stdout",
     "output_type": "stream",
     "text": [
      "Enter 5 names\n",
      "tony\n",
      "paul\n",
      "steve\n",
      "rick\n",
      "watson\n",
      "Names entered are :  tony paul steve rick watson \n",
      "Replace one name. Which one? (1-5):\n",
      "5\n",
      "New Name : anthony\n",
      "The names are :  tony paul steve rick anthony "
     ]
    }
   ],
   "source": [
    "print('Enter 5 names')\n",
    "a=input()\n",
    "b=input()\n",
    "c=input()\n",
    "d=input()\n",
    "e=input()\n",
    "l=[a,b,c,d,e]\n",
    "print('Names entered are : ',end=' ')\n",
    "for i in l:\n",
    "    print(i,end=' ')\n",
    "k=int(input('\\nReplace one name. Which one? (1-5):\\n'))\n",
    "name=input('New Name : ')\n",
    "l[k-1]=name\n",
    "print('The names are : ',end=' ')\n",
    "for i in l:\n",
    "    print(i,end=' ')"
   ]
  },
  {
   "cell_type": "markdown",
   "id": "2f594912",
   "metadata": {},
   "source": [
    "### 5 - Write a dictionary program that lets users enter certain words and definitions and then look them up later. Make sure you let the user know if their word isn’t in the dictionary yet. It should look something like this when it runs:\n",
    "\n",
    "Add or look up a word (a/l)? a\n",
    "\n",
    "Type the word: computer\n",
    "\n",
    "Type the definition: A machine that does very fast math\n",
    "\n",
    "Word added!\n",
    "\n",
    "Add or look up a word (a/l)? l\n",
    "\n",
    "Type the word: computer\n",
    "\n",
    "A machine that does very fast math\n",
    "\n",
    "Add or look up a word (a/l)? l\n",
    "\n",
    "Type the word: qwerty\n",
    "\n",
    "That word isn&#39;t in the dictionary yet."
   ]
  },
  {
   "cell_type": "code",
   "execution_count": 26,
   "id": "a772e5db",
   "metadata": {},
   "outputs": [
    {
     "name": "stdout",
     "output_type": "stream",
     "text": [
      "Add or look up a word (a/l)? a\n",
      "Type the word: : computer\n",
      "Type the defintion : A machine that does very fast math\n",
      "Word added\n",
      "Enter 1 to continue, Enter 0 to exit\n",
      "1\n",
      "Add or look up a word (a/l)? l\n",
      "Type the word: : computer\n",
      "Definition :  A machine that does very fast math\n",
      "Enter 1 to continue, Enter 0 to exit\n",
      "1\n",
      "Add or look up a word (a/l)? l\n",
      "Type the word: : qwerty\n",
      "Definition :  That word isnt in the dictionary yet\n",
      "Enter 1 to continue, Enter 0 to exit\n",
      "0\n"
     ]
    }
   ],
   "source": [
    "a=0\n",
    "d={}\n",
    "while True:\n",
    "    choice=input('Add or look up a word (a/l)? ')\n",
    "    if choice=='a':\n",
    "        word=input('Type the word: : ')\n",
    "        defin=input('Type the defintion : ')\n",
    "        d[word]=defin;\n",
    "        print('Word added')\n",
    "    elif choice=='l':\n",
    "        word=input('Type the word: : ')\n",
    "        ans=d.get(word,'That word isnt in the dictionary yet')\n",
    "        print('Definition : ',ans)\n",
    "    else:\n",
    "        print('Invalid input. Enter a or l')\n",
    "    a=int(input('Enter 1 to continue, Enter 0 to exit\\n'))             \n",
    "    if a==0:\n",
    "         break                            \n",
    "\n",
    "              "
   ]
  },
  {
   "cell_type": "markdown",
   "id": "b23bf486",
   "metadata": {},
   "source": [
    "### 6 - Write a Python program that prints first 50 prime numbers."
   ]
  },
  {
   "cell_type": "code",
   "execution_count": 28,
   "id": "a025d13c",
   "metadata": {},
   "outputs": [
    {
     "name": "stdout",
     "output_type": "stream",
     "text": [
      "First 50 prime numbers : \n",
      "2 3 5 7 11 13 17 19 23 29 31 37 41 43 47 53 59 61 67 71 73 79 83 89 97 101 103 107 109 113 127 131 137 139 149 151 157 163 167 173 179 181 191 193 197 199 211 223 227 229 233 "
     ]
    }
   ],
   "source": [
    "count=1\n",
    "n=3\n",
    "print('First 50 prime numbers : ')\n",
    "print(2,end=' ')\n",
    "while(count<=50):\n",
    "    check = True\n",
    "    for i in range(2,n):\n",
    "        if n % i == 0:\n",
    "            check=False\n",
    "            break\n",
    "    if check==True:\n",
    "        print(n,end=' ')\n",
    "        count+=1\n",
    "    n+=1"
   ]
  },
  {
   "cell_type": "markdown",
   "id": "dd41a944",
   "metadata": {},
   "source": [
    "###  7. Write a python program that prompt the user to enter a list of numbers and returns the index of the smallest element in a list of integers. If the number of occurrence of smallest element is greater than 1, return the smallest index."
   ]
  },
  {
   "cell_type": "code",
   "execution_count": 33,
   "id": "60f4272e",
   "metadata": {},
   "outputs": [
    {
     "name": "stdout",
     "output_type": "stream",
     "text": [
      "Enter a list of ints\n",
      "23 12 67 22 12 67 12\n",
      "Index of the smallest element in the list of integers is :  1\n"
     ]
    }
   ],
   "source": [
    "l=list(map(int,input('Enter a list of ints\\n').split(' ')));\n",
    "m=l[0]\n",
    "mi=0\n",
    "for i in range(len(l)):\n",
    "    if l[i]<m:\n",
    "        mi=i\n",
    "        m=l[i]\n",
    "print('Index of the smallest element in the list of integers is : ',mi)"
   ]
  }
 ],
 "metadata": {
  "kernelspec": {
   "display_name": "Python 3",
   "language": "python",
   "name": "python3"
  },
  "language_info": {
   "codemirror_mode": {
    "name": "ipython",
    "version": 3
   },
   "file_extension": ".py",
   "mimetype": "text/x-python",
   "name": "python",
   "nbconvert_exporter": "python",
   "pygments_lexer": "ipython3",
   "version": "3.8.8"
  }
 },
 "nbformat": 4,
 "nbformat_minor": 5
}

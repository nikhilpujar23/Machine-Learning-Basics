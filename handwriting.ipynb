{
 "cells": [
  {
   "cell_type": "code",
   "execution_count": 3,
   "id": "1d9e924f",
   "metadata": {},
   "outputs": [
    {
     "data": {
      "text/plain": [
       "dict_keys(['data', 'target', 'frame', 'categories', 'feature_names', 'target_names', 'DESCR', 'details', 'url'])"
      ]
     },
     "execution_count": 3,
     "metadata": {},
     "output_type": "execute_result"
    }
   ],
   "source": [
    "from sklearn.datasets import fetch_openml\n",
    "mnist=fetch_openml('mnist_784',version=1)\n",
    "mnist.keys()"
   ]
  },
  {
   "cell_type": "markdown",
   "id": "e65a7835",
   "metadata": {},
   "source": [
    "Datasets loaded by Scikit-Learn generally have a similar dictionary structure includ‐\n",
    "ing:\n",
    "\n",
    "• A DESCR key describing the dataset\n",
    "\n",
    "• A data key containing an array with one row per instance and one column per\n",
    "feature\n",
    "\n",
    "• A target key containing an array with the labels"
   ]
  },
  {
   "cell_type": "code",
   "execution_count": 4,
   "id": "655f921a",
   "metadata": {},
   "outputs": [
    {
     "data": {
      "text/plain": [
       "\"**Author**: Yann LeCun, Corinna Cortes, Christopher J.C. Burges  \\n**Source**: [MNIST Website](http://yann.lecun.com/exdb/mnist/) - Date unknown  \\n**Please cite**:  \\n\\nThe MNIST database of handwritten digits with 784 features, raw data available at: http://yann.lecun.com/exdb/mnist/. It can be split in a training set of the first 60,000 examples, and a test set of 10,000 examples  \\n\\nIt is a subset of a larger set available from NIST. The digits have been size-normalized and centered in a fixed-size image. It is a good database for people who want to try learning techniques and pattern recognition methods on real-world data while spending minimal efforts on preprocessing and formatting. The original black and white (bilevel) images from NIST were size normalized to fit in a 20x20 pixel box while preserving their aspect ratio. The resulting images contain grey levels as a result of the anti-aliasing technique used by the normalization algorithm. the images were centered in a 28x28 image by computing the center of mass of the pixels, and translating the image so as to position this point at the center of the 28x28 field.  \\n\\nWith some classification methods (particularly template-based methods, such as SVM and K-nearest neighbors), the error rate improves when the digits are centered by bounding box rather than center of mass. If you do this kind of pre-processing, you should report it in your publications. The MNIST database was constructed from NIST's NIST originally designated SD-3 as their training set and SD-1 as their test set. However, SD-3 is much cleaner and easier to recognize than SD-1. The reason for this can be found on the fact that SD-3 was collected among Census Bureau employees, while SD-1 was collected among high-school students. Drawing sensible conclusions from learning experiments requires that the result be independent of the choice of training set and test among the complete set of samples. Therefore it was necessary to build a new database by mixing NIST's datasets.  \\n\\nThe MNIST training set is composed of 30,000 patterns from SD-3 and 30,000 patterns from SD-1. Our test set was composed of 5,000 patterns from SD-3 and 5,000 patterns from SD-1. The 60,000 pattern training set contained examples from approximately 250 writers. We made sure that the sets of writers of the training set and test set were disjoint. SD-1 contains 58,527 digit images written by 500 different writers. In contrast to SD-3, where blocks of data from each writer appeared in sequence, the data in SD-1 is scrambled. Writer identities for SD-1 is available and we used this information to unscramble the writers. We then split SD-1 in two: characters written by the first 250 writers went into our new training set. The remaining 250 writers were placed in our test set. Thus we had two sets with nearly 30,000 examples each. The new training set was completed with enough examples from SD-3, starting at pattern # 0, to make a full set of 60,000 training patterns. Similarly, the new test set was completed with SD-3 examples starting at pattern # 35,000 to make a full set with 60,000 test patterns. Only a subset of 10,000 test images (5,000 from SD-1 and 5,000 from SD-3) is available on this site. The full 60,000 sample training set is available.\\n\\nDownloaded from openml.org.\""
      ]
     },
     "execution_count": 4,
     "metadata": {},
     "output_type": "execute_result"
    }
   ],
   "source": [
    "mnist['DESCR']\n"
   ]
  },
  {
   "cell_type": "code",
   "execution_count": 5,
   "id": "57d8a3d8",
   "metadata": {},
   "outputs": [],
   "source": [
    "import matplotlib as mpl\n",
    "import matplotlib.pyplot as plt\n",
    "import pandas as pd\n",
    "import numpy as np"
   ]
  },
  {
   "cell_type": "code",
   "execution_count": 6,
   "id": "32e9a484",
   "metadata": {},
   "outputs": [
    {
     "name": "stdout",
     "output_type": "stream",
     "text": [
      "(70000, 784)\n",
      "(1, 784)\n"
     ]
    },
    {
     "data": {
      "image/png": "[encoded data removed]",
      "text/plain": [
       "<Figure size 432x288 with 1 Axes>"
      ]
     },
     "metadata": {
      "needs_background": "light"
     },
     "output_type": "display_data"
    }
   ],
   "source": [
    "x= mnist[\"data\"]\n",
    "print(x.shape)\n",
    "some_digit = x.head(1)\n",
    "\n",
    "print(some_digit.shape)\n",
    "some_digit_image = some_digit.values.reshape(28, 28)\n",
    "plt.imshow(some_digit_image, cmap = mpl.cm.binary, interpolation=\"nearest\")\n",
    "plt.axis(\"off\")\n",
    "plt.show()\n"
   ]
  },
  {
   "cell_type": "code",
   "execution_count": 7,
   "id": "b5fe2ca7",
   "metadata": {},
   "outputs": [
    {
     "name": "stdout",
     "output_type": "stream",
     "text": [
      "(70000,)\n"
     ]
    },
    {
     "data": {
      "text/plain": [
       "'5'"
      ]
     },
     "execution_count": 7,
     "metadata": {},
     "output_type": "execute_result"
    }
   ],
   "source": [
    "y=mnist['target']\n",
    "print(y.shape)\n",
    "y.loc[0]"
   ]
  },
  {
   "cell_type": "code",
   "execution_count": 8,
   "id": "931b6f47",
   "metadata": {},
   "outputs": [],
   "source": [
    "y=y.astype(int)"
   ]
  },
  {
   "cell_type": "code",
   "execution_count": 9,
   "id": "31414f20",
   "metadata": {},
   "outputs": [
    {
     "name": "stdout",
     "output_type": "stream",
     "text": [
      "(60000, 784)\n"
     ]
    }
   ],
   "source": [
    "x_train, x_test, y_train, y_test = x.iloc[:60000], x.iloc[60000:], y.iloc[:60000], y.iloc[60000:]\n",
    "print(x_train.shape)"
   ]
  },
  {
   "cell_type": "code",
   "execution_count": 10,
   "id": "e25abb7a",
   "metadata": {},
   "outputs": [],
   "source": [
    "y_train_5 = (y_train == 5)\n",
    "y_test_5 = (y_test == 5)"
   ]
  },
  {
   "cell_type": "code",
   "execution_count": 11,
   "id": "f0b2f205",
   "metadata": {},
   "outputs": [
    {
     "data": {
      "text/plain": [
       "SGDClassifier(random_state=42)"
      ]
     },
     "execution_count": 11,
     "metadata": {},
     "output_type": "execute_result"
    }
   ],
   "source": [
    "from sklearn.linear_model import SGDClassifier\n",
    "sgd_clf = SGDClassifier(random_state=42)\n",
    "sgd_clf.fit(x_train, y_train_5)\n",
    "# Stochastic Gradient Descent"
   ]
  },
  {
   "cell_type": "markdown",
   "id": "e49f512d",
   "metadata": {},
   "source": [
    "The SGDClassifier relies on randomness during training (hence\n",
    "the name “stochastic”). If you want reproducible results, you\n",
    "should set the random_state parameter.\n",
    "\n",
    "This classifier has the advantage of being capable of handling very large datasets efficiently.\n",
    "This is in part because SGD deals with training instances independently, one at a time\n",
    "(which also makes SGD well suited for online learning), as we will see later"
   ]
  },
  {
   "cell_type": "code",
   "execution_count": null,
   "id": "decebd96",
   "metadata": {},
   "outputs": [],
   "source": []
  },
  {
   "cell_type": "code",
   "execution_count": 12,
   "id": "00d5c3a8",
   "metadata": {},
   "outputs": [
    {
     "name": "stdout",
     "output_type": "stream",
     "text": [
      "[ True]\n"
     ]
    }
   ],
   "source": [
    "print(sgd_clf.predict(some_digit))"
   ]
  },
  {
   "cell_type": "code",
   "execution_count": 13,
   "id": "45b8b1b4",
   "metadata": {},
   "outputs": [],
   "source": [
    "from sklearn.model_selection import cross_val_score"
   ]
  },
  {
   "cell_type": "code",
   "execution_count": 15,
   "id": "fb0a9086",
   "metadata": {},
   "outputs": [],
   "source": [
    "#cross_val_score(sgd_clf,x_train,y_train,cv=3,scoring='accuracy')\n"
   ]
  },
  {
   "cell_type": "code",
   "execution_count": 16,
   "id": "2800e7f6",
   "metadata": {},
   "outputs": [
    {
     "name": "stdout",
     "output_type": "stream",
     "text": [
      "Help on function cross_val_score in module sklearn.model_selection._validation:\n",
      "\n",
      "cross_val_score(estimator, X, y=None, *, groups=None, scoring=None, cv=None, n_jobs=None, verbose=0, fit_params=None, pre_dispatch='2*n_jobs', error_score=nan)\n",
      "    Evaluate a score by cross-validation\n",
      "    \n",
      "    Read more in the :ref:`User Guide <cross_validation>`.\n",
      "    \n",
      "    Parameters\n",
      "    ----------\n",
      "    estimator : estimator object implementing 'fit'\n",
      "        The object to use to fit the data.\n",
      "    \n",
      "    X : array-like of shape (n_samples, n_features)\n",
      "        The data to fit. Can be for example a list, or an array.\n",
      "    \n",
      "    y : array-like of shape (n_samples,) or (n_samples, n_outputs),             default=None\n",
      "        The target variable to try to predict in the case of\n",
      "        supervised learning.\n",
      "    \n",
      "    groups : array-like of shape (n_samples,), default=None\n",
      "        Group labels for the samples used while splitting the dataset into\n",
      "        train/test set. Only used in conjunction with a \"Group\" :term:`cv`\n",
      "        instance (e.g., :class:`GroupKFold`).\n",
      "    \n",
      "    scoring : str or callable, default=None\n",
      "        A str (see model evaluation documentation) or\n",
      "        a scorer callable object / function with signature\n",
      "        ``scorer(estimator, X, y)`` which should return only\n",
      "        a single value.\n",
      "    \n",
      "        Similar to :func:`cross_validate`\n",
      "        but only a single metric is permitted.\n",
      "    \n",
      "        If None, the estimator's default scorer (if available) is used.\n",
      "    \n",
      "    cv : int, cross-validation generator or an iterable, default=None\n",
      "        Determines the cross-validation splitting strategy.\n",
      "        Possible inputs for cv are:\n",
      "    \n",
      "        - None, to use the default 5-fold cross validation,\n",
      "        - int, to specify the number of folds in a `(Stratified)KFold`,\n",
      "        - :term:`CV splitter`,\n",
      "        - An iterable yielding (train, test) splits as arrays of indices.\n",
      "    \n",
      "        For int/None inputs, if the estimator is a classifier and ``y`` is\n",
      "        either binary or multiclass, :class:`StratifiedKFold` is used. In all\n",
      "        other cases, :class:`KFold` is used.\n",
      "    \n",
      "        Refer :ref:`User Guide <cross_validation>` for the various\n",
      "        cross-validation strategies that can be used here.\n",
      "    \n",
      "        .. versionchanged:: 0.22\n",
      "            ``cv`` default value if None changed from 3-fold to 5-fold.\n",
      "    \n",
      "    n_jobs : int, default=None\n",
      "        Number of jobs to run in parallel. Training the estimator and computing\n",
      "        the score are parallelized over the cross-validation splits.\n",
      "        ``None`` means 1 unless in a :obj:`joblib.parallel_backend` context.\n",
      "        ``-1`` means using all processors. See :term:`Glossary <n_jobs>`\n",
      "        for more details.\n",
      "    \n",
      "    verbose : int, default=0\n",
      "        The verbosity level.\n",
      "    \n",
      "    fit_params : dict, default=None\n",
      "        Parameters to pass to the fit method of the estimator.\n",
      "    \n",
      "    pre_dispatch : int or str, default='2*n_jobs'\n",
      "        Controls the number of jobs that get dispatched during parallel\n",
      "        execution. Reducing this number can be useful to avoid an\n",
      "        explosion of memory consumption when more jobs get dispatched\n",
      "        than CPUs can process. This parameter can be:\n",
      "    \n",
      "            - None, in which case all the jobs are immediately\n",
      "              created and spawned. Use this for lightweight and\n",
      "              fast-running jobs, to avoid delays due to on-demand\n",
      "              spawning of the jobs\n",
      "    \n",
      "            - An int, giving the exact number of total jobs that are\n",
      "              spawned\n",
      "    \n",
      "            - A str, giving an expression as a function of n_jobs,\n",
      "              as in '2*n_jobs'\n",
      "    \n",
      "    error_score : 'raise' or numeric, default=np.nan\n",
      "        Value to assign to the score if an error occurs in estimator fitting.\n",
      "        If set to 'raise', the error is raised.\n",
      "        If a numeric value is given, FitFailedWarning is raised.\n",
      "    \n",
      "        .. versionadded:: 0.20\n",
      "    \n",
      "    Returns\n",
      "    -------\n",
      "    scores : ndarray of float of shape=(len(list(cv)),)\n",
      "        Array of scores of the estimator for each run of the cross validation.\n",
      "    \n",
      "    Examples\n",
      "    --------\n",
      "    >>> from sklearn import datasets, linear_model\n",
      "    >>> from sklearn.model_selection import cross_val_score\n",
      "    >>> diabetes = datasets.load_diabetes()\n",
      "    >>> X = diabetes.data[:150]\n",
      "    >>> y = diabetes.target[:150]\n",
      "    >>> lasso = linear_model.Lasso()\n",
      "    >>> print(cross_val_score(lasso, X, y, cv=3))\n",
      "    [0.33150734 0.08022311 0.03531764]\n",
      "    \n",
      "    See Also\n",
      "    ---------\n",
      "    cross_validate : To run cross-validation on multiple metrics and also to\n",
      "        return train scores, fit times and score times.\n",
      "    \n",
      "    cross_val_predict : Get predictions from each split of cross-validation for\n",
      "        diagnostic purposes.\n",
      "    \n",
      "    sklearn.metrics.make_scorer : Make a scorer from a performance metric or\n",
      "        loss function.\n",
      "\n"
     ]
    }
   ],
   "source": [
    "help(cross_val_score)"
   ]
  },
  {
   "cell_type": "markdown",
   "id": "96261bd4",
   "metadata": {},
   "source": [
    "from sklearn.base import BaseEstimator\n",
    "\n",
    "class Never5Classifier(BaseEstimator):\n",
    "    \n",
    " def fit(self, X, y=None):\n",
    "    \n",
    " pass\n",
    "\n",
    " def predict(self, X):\n",
    "        \n",
    " return np.zeros((len(X), 1), dtype=bool)\n",
    "\n",
    "Can you guess this model’s accuracy? Let’s find out:\n",
    "    \n",
    ">>> never_5_clf = Never5Classifier()\n",
    "\n",
    "\n",
    ">>> cross_val_score(never_5_clf, X_train, y_train_5, cv=3, scoring=\"accuracy\")\n",
    "\n",
    "array([0.91125, 0.90855, 0.90915])\n",
    "\n",
    "That’s right, it has over 90% accuracy! This is simply because only about 10% of the\n",
    "images are 5s, so if you always guess that an image is not a 5, you will be right about\n",
    "90% of the time.\n",
    "\n",
    "This demonstrates why accuracy is generally not the preferred performance measure\n",
    "for classifiers, especially when you are dealing with skewed datasets (i.e., when some\n",
    "classes are much more frequent than others)."
   ]
  },
  {
   "cell_type": "markdown",
   "id": "2e8c878d",
   "metadata": {},
   "source": [
    "A much better way to evaluate the performance of a classifier is to look at the confu‐\n",
    "sion matrix. The general idea is to count the number of times instances of class A are\n",
    "classified as class B. For example, to know the number of times the classifier confused\n",
    "images of 5s with 3s, you would look in the 5th row and 3rd column of the confusion\n",
    "matrix"
   ]
  },
  {
   "cell_type": "code",
   "execution_count": 17,
   "id": "34df1913",
   "metadata": {},
   "outputs": [],
   "source": [
    "from sklearn.model_selection import cross_val_predict"
   ]
  },
  {
   "cell_type": "code",
   "execution_count": 18,
   "id": "b1b5f09f",
   "metadata": {},
   "outputs": [],
   "source": [
    "y_train_pred=cross_val_predict(sgd_clf,x_train,y_train_5,cv=3,n_jobs=-1)"
   ]
  },
  {
   "cell_type": "markdown",
   "id": "23bf55e1",
   "metadata": {},
   "source": [
    "n_jobs means you ue all of your machine cores for faster evalutation"
   ]
  },
  {
   "cell_type": "code",
   "execution_count": 19,
   "id": "0cdf6a96",
   "metadata": {},
   "outputs": [
    {
     "data": {
      "text/plain": [
       "array([[53892,   687],\n",
       "       [ 1891,  3530]], dtype=int64)"
      ]
     },
     "execution_count": 19,
     "metadata": {},
     "output_type": "execute_result"
    }
   ],
   "source": [
    "from sklearn.metrics import confusion_matrix\n",
    "confusion_matrix(y_train_5,y_train_pred)"
   ]
  },
  {
   "cell_type": "markdown",
   "id": "a6621825",
   "metadata": {},
   "source": [
    "Each row in a confusion matrix represents an actual class, while each column repre‐\n",
    "sents a predicted class. The first row of this matrix considers non-5 images (the nega‐\n",
    "tive class): 53,057 of them were correctly classified as non-5s (they are called true\n",
    "negatives), while the remaining 1,522 were wrongly classified as 5s (false positives).\n",
    "The second row considers the images of 5s (the positive class): 1,325 were wrongly\n",
    "classified as non-5s (false negatives), while the remaining 4,096 were correctly classi‐\n",
    "fied as 5s (true positives). A perfect classifier would have only true positives and true\n",
    "negatives, so its confusion matrix would have nonzero values only on its main diago‐\n",
    "nal (top left to bottom right)"
   ]
  },
  {
   "cell_type": "code",
   "execution_count": 20,
   "id": "3d70d5ef",
   "metadata": {},
   "outputs": [
    {
     "data": {
      "text/plain": [
       "array([[54579,     0],\n",
       "       [    0,  5421]], dtype=int64)"
      ]
     },
     "execution_count": 20,
     "metadata": {},
     "output_type": "execute_result"
    }
   ],
   "source": [
    "y_train_perfect_predictions = y_train_5 # pretend we reached perfection\n",
    "confusion_matrix(y_train_5, y_train_perfect_predictions)"
   ]
  },
  {
   "cell_type": "markdown",
   "id": "bddac38e",
   "metadata": {},
   "source": [
    "precision =                \n",
    "TP\n",
    "--------\n",
    "TP + FP\n",
    "\n",
    "TP is the number of true positives, and FP is the number of false positives."
   ]
  },
  {
   "cell_type": "markdown",
   "id": "7bb12552",
   "metadata": {},
   "source": [
    "recall = \n",
    "\n",
    "TP\n",
    "\n",
    "-------\n",
    "TP + FN\n",
    "\n",
    "FN is of course the number of false negatives."
   ]
  },
  {
   "cell_type": "code",
   "execution_count": 21,
   "id": "557cdf9c",
   "metadata": {},
   "outputs": [
    {
     "name": "stdout",
     "output_type": "stream",
     "text": [
      "0.8370879772350012\n",
      "0.6511713705958311\n"
     ]
    }
   ],
   "source": [
    "from sklearn.metrics import precision_score, recall_score\n",
    "print(precision_score(y_train_5, y_train_pred)) \n",
    "print(recall_score(y_train_5, y_train_pred)) "
   ]
  },
  {
   "cell_type": "markdown",
   "id": "51a282e5",
   "metadata": {},
   "source": [
    "Now your 5-detector does not look as shiny as it did when you looked at its accuracy.\n",
    "When it claims an image represents a 5, it is correct only 72.9% of the time. More‐\n",
    "over, it only detects 75.6% of the 5s"
   ]
  },
  {
   "cell_type": "markdown",
   "id": "5d021aca",
   "metadata": {},
   "source": [
    "f1 score is the harmonic mean of precision and recall"
   ]
  },
  {
   "cell_type": "code",
   "execution_count": 22,
   "id": "1fa294b0",
   "metadata": {},
   "outputs": [
    {
     "data": {
      "text/plain": [
       "0.7325171197343846"
      ]
     },
     "execution_count": 22,
     "metadata": {},
     "output_type": "execute_result"
    }
   ],
   "source": [
    "from sklearn.metrics import f1_score\n",
    "f1_score(y_train_5, y_train_pred)\n"
   ]
  },
  {
   "cell_type": "markdown",
   "id": "7d22945d",
   "metadata": {},
   "source": [
    "Unfortunately, you can’t have it both ways: increasing precision reduces recall, and\n",
    "vice versa. This is called the precision/recall tradeof.\n",
    "\n",
    "f1 score will prefer those models which have a similar prescision and recall"
   ]
  },
  {
   "cell_type": "markdown",
   "id": "8d8ba7b1",
   "metadata": {},
   "source": [
    "Scikit-Learn does not let you set the threshold directly, but it does give you access to\n",
    "the decision scores that it uses to make predictions. Instead of calling the classifier’s\n",
    "predict() method, you can call its decision_function() method, which returns a\n",
    "score for each instance, and then make predictions based on those scores using any\n",
    "threshold you want:"
   ]
  },
  {
   "cell_type": "code",
   "execution_count": 23,
   "id": "6f094d42",
   "metadata": {},
   "outputs": [
    {
     "data": {
      "text/plain": [
       "array([2164.22030239])"
      ]
     },
     "execution_count": 23,
     "metadata": {},
     "output_type": "execute_result"
    }
   ],
   "source": [
    " y_scores = sgd_clf.decision_function(some_digit)\n",
    "y_scores\n"
   ]
  },
  {
   "cell_type": "code",
   "execution_count": 24,
   "id": "2da77305",
   "metadata": {},
   "outputs": [
    {
     "name": "stdout",
     "output_type": "stream",
     "text": [
      "[ True]\n"
     ]
    }
   ],
   "source": [
    "threshold = 0\n",
    "y_some_digit_pred = (y_scores > threshold)\n",
    "print( y_some_digit_pred)\n"
   ]
  },
  {
   "cell_type": "markdown",
   "id": "ebe13ba6",
   "metadata": {},
   "source": [
    "\n",
    "The SGDClassifier uses a threshold equal to 0, so the previous code returns the same\n",
    "result as the predict() method (i.e., True). L"
   ]
  },
  {
   "cell_type": "code",
   "execution_count": 25,
   "id": "d32df1b7",
   "metadata": {},
   "outputs": [
    {
     "data": {
      "text/plain": [
       "array([False])"
      ]
     },
     "execution_count": 25,
     "metadata": {},
     "output_type": "execute_result"
    }
   ],
   "source": [
    "threshold = 8000\n",
    "y_some_digit_pred = (y_scores > threshold)\n",
    "y_some_digit_pred\n"
   ]
  },
  {
   "cell_type": "markdown",
   "id": "314e6b38",
   "metadata": {},
   "source": [
    "Scikit-Learn does not let you set the threshold directly, but it does give you access to\n",
    "the decision scores that it uses to make predictions. Instead of calling the classifier’s\n",
    "predict() method, you can call its decision_function() method, which returns a\n",
    "score for each instance, and then make predictions based on those scores using any\n",
    "threshold you want:"
   ]
  },
  {
   "cell_type": "code",
   "execution_count": 26,
   "id": "82d9ab53",
   "metadata": {},
   "outputs": [
    {
     "data": {
      "text/plain": [
       "array([2164.22030239])"
      ]
     },
     "execution_count": 26,
     "metadata": {},
     "output_type": "execute_result"
    }
   ],
   "source": [
    " y_scores = sgd_clf.decision_function(some_digit)\n",
    "y_scores\n"
   ]
  },
  {
   "cell_type": "code",
   "execution_count": 27,
   "id": "6b18e0f3",
   "metadata": {},
   "outputs": [
    {
     "name": "stdout",
     "output_type": "stream",
     "text": [
      "[ True]\n"
     ]
    }
   ],
   "source": [
    "threshold = 0\n",
    "y_some_digit_pred = (y_scores > threshold)\n",
    "print( y_some_digit_pred)\n"
   ]
  },
  {
   "cell_type": "markdown",
   "id": "58b02247",
   "metadata": {},
   "source": [
    "Now how do you decide which threshold to use? For this you will first need to get the\n",
    "scores of all instances in the training set using the cross_val_predict() function\n",
    "again, but this time specifying that you want it to return decision scores instead of\n",
    "predictions:"
   ]
  },
  {
   "cell_type": "code",
   "execution_count": 28,
   "id": "8c69403a",
   "metadata": {},
   "outputs": [],
   "source": [
    "y_scores = cross_val_predict(sgd_clf, x_train, y_train_5, cv=3,method=\"decision_function\",n_jobs=-1)\n"
   ]
  },
  {
   "cell_type": "code",
   "execution_count": 29,
   "id": "9f79e08b",
   "metadata": {},
   "outputs": [],
   "source": [
    "from sklearn.metrics import precision_recall_curve"
   ]
  },
  {
   "cell_type": "code",
   "execution_count": 30,
   "id": "624daad3",
   "metadata": {},
   "outputs": [],
   "source": [
    "precisions,recalls,thresholds=precision_recall_curve(y_train_5,y_scores)"
   ]
  },
  {
   "cell_type": "code",
   "execution_count": 31,
   "id": "6a6edc82",
   "metadata": {},
   "outputs": [
    {
     "data": {
      "image/png": "[encoded data removed]",
      "text/plain": [
       "<Figure size 432x288 with 1 Axes>"
      ]
     },
     "metadata": {
      "needs_background": "light"
     },
     "output_type": "display_data"
    },
    {
     "data": {
      "text/plain": [
       "<Figure size 720x216 with 0 Axes>"
      ]
     },
     "metadata": {},
     "output_type": "display_data"
    }
   ],
   "source": [
    "def plot_precision_recall_vs_threshold(precisions, recalls, thresholds):\n",
    " plt.xlabel(xlabel='Thresholds',fontsize='xx-large')\n",
    " plt.plot(thresholds, precisions[:-1], \"b--\", label=\"Precision\")\n",
    " plt.plot(thresholds, recalls[:-1], \"g-\", label=\"Recall\")\n",
    " plt.grid()\n",
    " plt.legend()\n",
    " plt.figure(figsize=(10,3))\n",
    "\n",
    "plot_precision_recall_vs_threshold(precisions, recalls, thresholds)\n",
    "plt.show()\n"
   ]
  },
  {
   "cell_type": "code",
   "execution_count": 32,
   "id": "ab894fb1",
   "metadata": {},
   "outputs": [],
   "source": [
    "threshold_90_precision=thresholds[np.argmax(precisions>=90)]"
   ]
  },
  {
   "cell_type": "code",
   "execution_count": 33,
   "id": "afbb2018",
   "metadata": {},
   "outputs": [
    {
     "ename": "NameError",
     "evalue": "name 'thresholds_90_precision' is not defined",
     "output_type": "error",
     "traceback": [
      "\u001b[1;31m---------------------------------------------------------------------------\u001b[0m",
      "\u001b[1;31mNameError\u001b[0m                                 Traceback (most recent call last)",
      "\u001b[1;32m<ipython-input-33-caa8c43d5731>\u001b[0m in \u001b[0;36m<module>\u001b[1;34m\u001b[0m\n\u001b[1;32m----> 1\u001b[1;33m \u001b[0my_train_pred\u001b[0m\u001b[1;33m=\u001b[0m\u001b[1;33m(\u001b[0m\u001b[0my_scores\u001b[0m\u001b[1;33m>=\u001b[0m\u001b[0mthresholds_90_precision\u001b[0m\u001b[1;33m)\u001b[0m\u001b[1;33m\u001b[0m\u001b[1;33m\u001b[0m\u001b[0m\n\u001b[0m\u001b[0;32m      2\u001b[0m \u001b[0mprecision_score\u001b[0m\u001b[1;33m(\u001b[0m\u001b[0my_train_5\u001b[0m\u001b[1;33m,\u001b[0m\u001b[0my_train_pred\u001b[0m\u001b[1;33m)\u001b[0m\u001b[1;33m\u001b[0m\u001b[1;33m\u001b[0m\u001b[0m\n",
      "\u001b[1;31mNameError\u001b[0m: name 'thresholds_90_precision' is not defined"
     ]
    }
   ],
   "source": [
    "y_train_pred=(y_scores>=thresholds_90_precision)\n",
    "precision_score(y_train_5,y_train_pred)"
   ]
  },
  {
   "cell_type": "markdown",
   "id": "15d08a4f",
   "metadata": {},
   "source": [
    "The receiver operating characteristic (ROC) curve is another common tool used with\n",
    "binary classifiers. It is very similar to the precision/recall curve, but instead of plot‐\n",
    "ting precision versus recall, the ROC curve plots the true positive rate (another name\n",
    "for recall) against the false positive rate"
   ]
  },
  {
   "cell_type": "markdown",
   "id": "544c6467",
   "metadata": {},
   "source": [
    "FPR is the ratio of negative instances that\n",
    "are incorrectly classified as positive. It is equal to one minus the true negative rate, \n",
    "which is the ratio of negative instances that are correctly classified as negative. The\n",
    "TNR is also called specificity. Hence the ROC curve plots sensitivity (recall) versus\n",
    "1 – specificity"
   ]
  },
  {
   "cell_type": "code",
   "execution_count": 36,
   "id": "20260de2",
   "metadata": {},
   "outputs": [
    {
     "data": {
      "text/plain": [
       "array([3])"
      ]
     },
     "execution_count": 36,
     "metadata": {},
     "output_type": "execute_result"
    }
   ],
   "source": [
    "sgd_clf.fit(x_train,y_train)\n",
    "sgd_clf.predict(some_digit)"
   ]
  },
  {
   "cell_type": "code",
   "execution_count": 37,
   "id": "8005ffe3",
   "metadata": {},
   "outputs": [
    {
     "data": {
      "text/plain": [
       "array([[-31893.03095419, -34419.69069632,  -9530.63950739,\n",
       "          1823.73154031, -22320.14822878,  -1385.80478895,\n",
       "        -26188.91070951, -16147.51323997,  -4604.35491274,\n",
       "        -12050.767298  ]])"
      ]
     },
     "execution_count": 37,
     "metadata": {},
     "output_type": "execute_result"
    }
   ],
   "source": [
    "some_digit_scores = sgd_clf.decision_function(some_digit)\n",
    "some_digit_scores\n"
   ]
  },
  {
   "cell_type": "code",
   "execution_count": 38,
   "id": "883d730b",
   "metadata": {},
   "outputs": [
    {
     "data": {
      "text/plain": [
       "3"
      ]
     },
     "execution_count": 38,
     "metadata": {},
     "output_type": "execute_result"
    }
   ],
   "source": [
    " np.argmax(some_digit_scores)\n",
    "\n"
   ]
  },
  {
   "cell_type": "code",
   "execution_count": 39,
   "id": "67949cab",
   "metadata": {},
   "outputs": [
    {
     "data": {
      "text/plain": [
       "array([0, 1, 2, 3, 4, 5, 6, 7, 8, 9])"
      ]
     },
     "execution_count": 39,
     "metadata": {},
     "output_type": "execute_result"
    }
   ],
   "source": [
    "sgd_clf.classes_"
   ]
  },
  {
   "cell_type": "code",
   "execution_count": 40,
   "id": "792029ad",
   "metadata": {},
   "outputs": [
    {
     "data": {
      "text/plain": [
       "5"
      ]
     },
     "execution_count": 40,
     "metadata": {},
     "output_type": "execute_result"
    }
   ],
   "source": [
    "sgd_clf.classes_[5]\n"
   ]
  },
  {
   "cell_type": "code",
   "execution_count": 41,
   "id": "45c8bbfa",
   "metadata": {},
   "outputs": [
    {
     "data": {
      "text/plain": [
       "array([5])"
      ]
     },
     "execution_count": 41,
     "metadata": {},
     "output_type": "execute_result"
    }
   ],
   "source": [
    "from sklearn.multiclass import OneVsOneClassifier\n",
    "ovo_clf = OneVsOneClassifier(SGDClassifier(random_state=42))\n",
    "ovo_clf.fit(x_train, y_train)\n",
    "ovo_clf.predict(some_digit)"
   ]
  },
  {
   "cell_type": "code",
   "execution_count": 42,
   "id": "7ddacdea",
   "metadata": {},
   "outputs": [
    {
     "data": {
      "text/plain": [
       "45"
      ]
     },
     "execution_count": 42,
     "metadata": {},
     "output_type": "execute_result"
    }
   ],
   "source": [
    "len(ovo_clf.estimators_)"
   ]
  },
  {
   "cell_type": "code",
   "execution_count": 44,
   "id": "b24300a2",
   "metadata": {},
   "outputs": [
    {
     "ename": "NameError",
     "evalue": "name 'forest_clf' is not defined",
     "output_type": "error",
     "traceback": [
      "\u001b[1;31m---------------------------------------------------------------------------\u001b[0m",
      "\u001b[1;31mNameError\u001b[0m                                 Traceback (most recent call last)",
      "\u001b[1;32m<ipython-input-44-eca96419db74>\u001b[0m in \u001b[0;36m<module>\u001b[1;34m\u001b[0m\n\u001b[1;32m----> 1\u001b[1;33m \u001b[0mforest_clf\u001b[0m\u001b[1;33m.\u001b[0m\u001b[0mfit\u001b[0m\u001b[1;33m(\u001b[0m\u001b[0mX_train\u001b[0m\u001b[1;33m,\u001b[0m \u001b[0my_train\u001b[0m\u001b[1;33m)\u001b[0m\u001b[1;33m\u001b[0m\u001b[1;33m\u001b[0m\u001b[0m\n\u001b[0m\u001b[0;32m      2\u001b[0m \u001b[0mforest_clf\u001b[0m\u001b[1;33m.\u001b[0m\u001b[0mpredict\u001b[0m\u001b[1;33m(\u001b[0m\u001b[0msome_digit\u001b[0m\u001b[1;33m)\u001b[0m\u001b[1;33m\u001b[0m\u001b[1;33m\u001b[0m\u001b[0m\n",
      "\u001b[1;31mNameError\u001b[0m: name 'forest_clf' is not defined"
     ]
    }
   ],
   "source": [
    "forest_clf.fit(X_train, y_train)\n",
    "forest_clf.predict(some_digit)"
   ]
  },
  {
   "cell_type": "markdown",
   "id": "66ba1f7f",
   "metadata": {},
   "source": [
    "Random Forest\n",
    "classifiers can directly classify instances into multiple classes. You can call\n",
    "predict_proba() to get the list of probabilities that the classifier assigned to each\n",
    "instance for each class:"
   ]
  },
  {
   "cell_type": "code",
   "execution_count": null,
   "id": "b1553c91",
   "metadata": {},
   "outputs": [],
   "source": [
    "forest_clf.predict_proba(some_digit)"
   ]
  },
  {
   "cell_type": "code",
   "execution_count": 45,
   "id": "5cf94614",
   "metadata": {},
   "outputs": [
    {
     "data": {
      "text/plain": [
       "array([0.87365, 0.85835, 0.8689 ])"
      ]
     },
     "execution_count": 45,
     "metadata": {},
     "output_type": "execute_result"
    }
   ],
   "source": [
    "cross_val_score(sgd_clf, x_train, y_train, cv=3, scoring=\"accuracy\",n_jobs=-1)"
   ]
  },
  {
   "cell_type": "code",
   "execution_count": 46,
   "id": "f2da8d34",
   "metadata": {},
   "outputs": [
    {
     "data": {
      "text/plain": [
       "array([0.8983, 0.891 , 0.9018])"
      ]
     },
     "execution_count": 46,
     "metadata": {},
     "output_type": "execute_result"
    }
   ],
   "source": [
    "from sklearn.preprocessing import StandardScaler\n",
    "scaler = StandardScaler()\n",
    "x_train_scaled = scaler.fit_transform(x_train.astype(np.float64))\n",
    "cross_val_score(sgd_clf, x_train_scaled, y_train, cv=3, scoring=\"accuracy\",n_jobs=-1)\n"
   ]
  },
  {
   "cell_type": "code",
   "execution_count": 47,
   "id": "491eb26d",
   "metadata": {},
   "outputs": [
    {
     "data": {
      "text/plain": [
       "array([[5577,    0,   22,    5,    8,   43,   36,    6,  225,    1],\n",
       "       [   0, 6400,   37,   24,    4,   44,    4,    7,  212,   10],\n",
       "       [  27,   27, 5220,   92,   73,   27,   67,   36,  378,   11],\n",
       "       [  22,   17,  117, 5227,    2,  203,   27,   40,  403,   73],\n",
       "       [  12,   14,   41,    9, 5182,   12,   34,   27,  347,  164],\n",
       "       [  27,   15,   30,  168,   53, 4444,   75,   14,  535,   60],\n",
       "       [  30,   15,   42,    3,   44,   97, 5552,    3,  131,    1],\n",
       "       [  21,   10,   51,   30,   49,   12,    3, 5684,  195,  210],\n",
       "       [  17,   63,   48,   86,    3,  126,   25,   10, 5429,   44],\n",
       "       [  25,   18,   30,   64,  118,   36,    1,  179,  371, 5107]],\n",
       "      dtype=int64)"
      ]
     },
     "execution_count": 47,
     "metadata": {},
     "output_type": "execute_result"
    }
   ],
   "source": [
    "y_train_pred = cross_val_predict(sgd_clf, x_train_scaled, y_train, cv=3,n_jobs=-1)\n",
    "conf_mx = confusion_matrix(y_train, y_train_pred)\n",
    "conf_mx\n"
   ]
  },
  {
   "cell_type": "markdown",
   "id": "a6ffd915",
   "metadata": {},
   "source": [
    "That’s a lot of numbers. It’s often more convenient to look at an image representation\n",
    "of the confusion matrix, using Matplotlib’s matshow() function:\n",
    "\n"
   ]
  },
  {
   "cell_type": "code",
   "execution_count": 48,
   "id": "72ce521e",
   "metadata": {},
   "outputs": [
    {
     "data": {
      "image/png": "[encoded data removed]",
      "text/plain": [
       "<Figure size 288x288 with 1 Axes>"
      ]
     },
     "metadata": {
      "needs_background": "light"
     },
     "output_type": "display_data"
    }
   ],
   "source": [
    "plt.matshow(conf_mx, cmap=plt.cm.gray)\n",
    "plt.show()"
   ]
  },
  {
   "cell_type": "markdown",
   "id": "9d9a3d10",
   "metadata": {},
   "source": [
    "This confusion matrix looks fairly good, since most images are on the main diagonal,\n",
    "which means that they were classified correctly. The 5s look slightly darker than the\n",
    "other digits, which could mean that there are fewer images of 5s in the dataset or that\n",
    "the classifier does not perform as well on 5s as on other digits."
   ]
  },
  {
   "cell_type": "markdown",
   "id": "9f3e1d6f",
   "metadata": {},
   "source": [
    "Let’s focus the plot on the errors. First, you need to divide each value in the confusion\n",
    "matrix by the number of images in the corresponding class, so you can compare error\n",
    "rates instead of absolute number of errors (which would make abundant classes look\n",
    "unfairly bad):"
   ]
  },
  {
   "cell_type": "code",
   "execution_count": 49,
   "id": "ea7a8820",
   "metadata": {},
   "outputs": [
    {
     "data": {
      "image/png": "[encoded data removed]",
      "text/plain": [
       "<Figure size 288x288 with 1 Axes>"
      ]
     },
     "metadata": {
      "needs_background": "light"
     },
     "output_type": "display_data"
    }
   ],
   "source": [
    "row_sums = conf_mx.sum(axis=1, keepdims=True)\n",
    "norm_conf_mx = conf_mx / row_sums\n",
    "#Now let’s fill the diagonal with zeros to keep only the errors, and let’s plot the result:\n",
    "np.fill_diagonal(norm_conf_mx, 0)\n",
    "plt.matshow(norm_conf_mx, cmap=plt.cm.gray)\n",
    "plt.show()"
   ]
  },
  {
   "cell_type": "markdown",
   "id": "7e7744e1",
   "metadata": {},
   "source": [
    "Now you can clearly see the kinds of errors the classifier makes. Remember that rows\n",
    "represent actual classes, while columns represent predicted classes. The column for\n",
    "class 8 is quite bright, which tells you that many images get misclassified as 8s. How‐\n",
    "ever, the row for class 8 is not that bad, telling you that actual 8s in general get prop‐\n",
    "erly classified as 8s. As you can see, the confusion matrix is not necessarily\n",
    "symmetrical. You can also see that 3s and 5s often get confused (in both directions)."
   ]
  },
  {
   "cell_type": "markdown",
   "id": "14bbee60",
   "metadata": {},
   "source": [
    "Or you could engineer new features that would help the classifier—for example, writ‐\n",
    "ing an algorithm to count the number of closed loops (e.g., 8 has two, 6 has one, 5 has\n",
    "none). Or you could preprocess the images (e.g., using Scikit-Image, Pillow, or\n",
    "OpenCV) to make some patterns stand out more, such as closed loops.\n"
   ]
  },
  {
   "cell_type": "markdown",
   "id": "094de5f5",
   "metadata": {},
   "source": [
    "The reason is that we used a simple SGDClassifier, which is a linear model. All it\n",
    "does is assign a weight per class to each pixel, and when it sees a new image it just\n",
    "sums up the weighted pixel intensities to get a score for each class. So since 3s and 5s\n",
    "differ only by a few pixels, this model will easily confuse them"
   ]
  },
  {
   "cell_type": "code",
   "execution_count": 51,
   "id": "e925a2c4",
   "metadata": {},
   "outputs": [
    {
     "data": {
      "text/plain": [
       "KNeighborsClassifier()"
      ]
     },
     "execution_count": 51,
     "metadata": {},
     "output_type": "execute_result"
    }
   ],
   "source": [
    "#classification system that outputs multiple\n",
    "#binary tags is called a multilabel classification system.\n",
    "\n",
    "from sklearn.neighbors import KNeighborsClassifier\n",
    "y_train_large = (y_train >= 7)\n",
    "y_train_odd = (y_train % 2 == 1)\n",
    "y_multilabel = np.c_[y_train_large, y_train_odd]\n",
    "knn_clf = KNeighborsClassifier()\n",
    "knn_clf.fit(x_train, y_multilabel)\n"
   ]
  },
  {
   "cell_type": "markdown",
   "id": "ad6348d0",
   "metadata": {},
   "source": [
    "There are many ways to evaluate a multilabel classifier, and selecting the right metric\n",
    "really depends on your project. For example, one approach is to measure the F1 score\n",
    "for each individual label (or any other binary classifier metric discussed earlier), then\n",
    "simply compute the average score."
   ]
  },
  {
   "cell_type": "code",
   "execution_count": 52,
   "id": "6211c5de",
   "metadata": {},
   "outputs": [
    {
     "data": {
      "text/plain": [
       "array([[False,  True]])"
      ]
     },
     "execution_count": 52,
     "metadata": {},
     "output_type": "execute_result"
    }
   ],
   "source": [
    "knn_clf.predict(some_digit)\n"
   ]
  },
  {
   "cell_type": "markdown",
   "id": "82f411ea",
   "metadata": {},
   "source": [
    "y_train_knn_pred = cross_val_predict(knn_clf, X_train, y_multilabel, cv=3)\n",
    "\n",
    "f1_score(y_multilabel, y_train_knn_pred, average=\"macro\")\n",
    "\n",
    "#This assumes that all labels are equally important,"
   ]
  },
  {
   "cell_type": "markdown",
   "id": "6ddd0197",
   "metadata": {},
   "source": [
    "It is simply a generaliza\n",
    "tion of multilabel classification where each label can be multiclass (i.e., it can have\n",
    "more than two possible values)"
   ]
  },
  {
   "cell_type": "code",
   "execution_count": null,
   "id": "dc5628b1",
   "metadata": {},
   "outputs": [],
   "source": []
  }
 ],
 "metadata": {
  "kernelspec": {
   "display_name": "Python 3",
   "language": "python",
   "name": "python3"
  },
  "language_info": {
   "codemirror_mode": {
    "name": "ipython",
    "version": 3
   },
   "file_extension": ".py",
   "mimetype": "text/x-python",
   "name": "python",
   "nbconvert_exporter": "python",
   "pygments_lexer": "ipython3",
   "version": "3.8.8"
  }
 },
 "nbformat": 4,
 "nbformat_minor": 5
}
